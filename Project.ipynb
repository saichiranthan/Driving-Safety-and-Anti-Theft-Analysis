{
 "cells": [
  {
   "cell_type": "markdown",
   "metadata": {},
   "source": [
    "# Project by Team 14--- ML Techniques for Driver Safety and Anti-Theft Analysis\n",
    "#### 221AI003--Abhishek B\n",
    "#### 221AI035--Sai Chiranthan H M "
   ]
  },
  {
   "cell_type": "code",
   "execution_count": 19,
   "metadata": {},
   "outputs": [],
   "source": [
    "import pandas as pd\n",
    "import numpy as np\n",
    "from sklearn.model_selection import train_test_split\n",
    "from sklearn.preprocessing import LabelEncoder, StandardScaler\n",
    "from sklearn.tree import DecisionTreeClassifier\n",
    "from sklearn.ensemble import RandomForestClassifier\n",
    "from sklearn.metrics import accuracy_score"
   ]
  },
  {
   "cell_type": "code",
   "execution_count": 21,
   "metadata": {},
   "outputs": [],
   "source": [
    "# Load the dataset\n",
    "pd.set_option('display.max_columns',None)\n",
    "df = pd.read_csv(\"data.csv\")"
   ]
  },
  {
   "cell_type": "markdown",
   "metadata": {},
   "source": [
    "value_counts() is a Pandas method that returns a Series containing counts of unique values"
   ]
  },
  {
   "cell_type": "code",
   "execution_count": 3,
   "metadata": {},
   "outputs": [
    {
     "name": "stdout",
     "output_type": "stream",
     "text": [
      "(94380, 54)\n",
      "Count of columns by data type:\n",
      "float64    27\n",
      "int64      26\n",
      "object      1\n",
      "Name: count, dtype: int64\n"
     ]
    }
   ],
   "source": [
    "print(df.shape)\n",
    "\n",
    "column_types = df.dtypes\n",
    "# Count how many columns come in each type\n",
    "type_counts = column_types.value_counts()\n",
    "\n",
    "# Print the count of columns for each type\n",
    "print(\"Count of columns by data type:\")\n",
    "print(type_counts)"
   ]
  },
  {
   "cell_type": "markdown",
   "metadata": {},
   "source": [
    "## Data Cleaning\n",
    "Checking for missing values"
   ]
  },
  {
   "cell_type": "code",
   "execution_count": 4,
   "metadata": {},
   "outputs": [
    {
     "name": "stdout",
     "output_type": "stream",
     "text": [
      "There are no missing values in the dataset\n"
     ]
    }
   ],
   "source": [
    "# 1. Step make the list of features which has missing values.\n",
    "\n",
    "feature_with_na = [features for features in df.columns if df[features].isnull().any()]\n",
    "# step print the feature name and the percentage of missing values\n",
    "for feature in feature_with_na:\n",
    "    print(feature,np.round(df[feature].isnull().mean(),4), '% missing values') \n",
    "if len(feature_with_na)==0:\n",
    "    print(\"There are no missing values in the dataset\")"
   ]
  },
  {
   "cell_type": "markdown",
   "metadata": {},
   "source": [
    "Removing duplicates:"
   ]
  },
  {
   "cell_type": "code",
   "execution_count": 5,
   "metadata": {},
   "outputs": [
    {
     "name": "stdout",
     "output_type": "stream",
     "text": [
      "Number of duplicate rows dropped: 0\n"
     ]
    }
   ],
   "source": [
    "original_length = len(df)\n",
    "df.drop_duplicates(inplace=True)\n",
    "new_length = len(df)\n",
    "duplicates_dropped = original_length - new_length\n",
    "print(\"Number of duplicate rows dropped:\", duplicates_dropped)\n"
   ]
  },
  {
   "cell_type": "markdown",
   "metadata": {},
   "source": [
    "Outlier detection and treatment: Let's say we want to clip outliers using 3 standard deviations:"
   ]
  },
  {
   "cell_type": "code",
   "execution_count": 6,
   "metadata": {},
   "outputs": [
    {
     "name": "stdout",
     "output_type": "stream",
     "text": [
      "Number of outliers: Fuel_consumption                                1824\n",
      "Accelerator_Pedal_value                         1648\n",
      "Throttle_position_signal                        3215\n",
      "Short_Term_Fuel_Trim_Bank1                      1501\n",
      "Intake_air_pressure                              157\n",
      "Filtered_Accelerator_Pedal_value                   0\n",
      "Absolute_throttle_position                      3230\n",
      "Engine_soacking_time                            6336\n",
      "Inhibition_of_engine_fuel_cut_off                  0\n",
      "Engine_in_fuel_cut_off                          6347\n",
      "Fuel_Pressure                                      0\n",
      "Long_Term_Fuel_Trim_Bank1                       1230\n",
      "Engine_speed                                     437\n",
      "Engine_torque_after_correction                   318\n",
      "Torque_of_friction                               620\n",
      "Flywheel_torque_(after_torque_interventions)     227\n",
      "Current_spark_timing                               5\n",
      "Engine_coolant_temperature                      1809\n",
      "Engine_Idel_Target_Speed                        2338\n",
      "Engine_torque                                    332\n",
      "Calculated_LOAD_value                              7\n",
      "Minimum_indicated_engine_torque                  318\n",
      "Maximum_indicated_engine_torque                    5\n",
      "Flywheel_torque                                  218\n",
      "Torque_scaling_factor(standardization)             0\n",
      "Standard_Torque_Ratio                              5\n",
      "Requested_spark_retard_angle_from_TCU              3\n",
      "TCU_requests_engine_torque_limit_(ETL)           923\n",
      "TCU_requested_engine_RPM_increase               1111\n",
      "Target_engine_speed_used_in_lock-up_module         3\n",
      "Glow_plug_control_request                          0\n",
      "Activation_of_Air_compressor                       0\n",
      "Torque_converter_speed                           252\n",
      "Current_Gear                                     923\n",
      "Engine_coolant_temperature.1                    2994\n",
      "Wheel_velocity_front_left-hand                   115\n",
      "Wheel_velocity_rear_right-hand                   119\n",
      "Wheel_velocity_front_right-hand                  121\n",
      "Wheel_velocity_rear_left-hand                    115\n",
      "Torque_converter_turbine_speed_-_Unfiltered      253\n",
      "Clutch_operation_acknowledge                       0\n",
      "Converter_clutch                                   0\n",
      "Gear_Selection                                  3139\n",
      "Vehicle_speed                                    115\n",
      "Acceleration_speed_-_Longitudinal               1410\n",
      "Indication_of_brake_switch_ON/OFF                  0\n",
      "Master_cylinder_pressure                        1894\n",
      "Calculated_road_gradient                        2399\n",
      "Acceleration_speed_-_Lateral                    1632\n",
      "Steering_wheel_speed                            1787\n",
      "Steering_wheel_angle                            2330\n",
      "Time(s)                                            0\n",
      "PathOrder                                          0\n",
      "dtype: int64\n"
     ]
    }
   ],
   "source": [
    "from scipy.stats import zscore\n",
    "\n",
    "# Calculate z-scores for each column\n",
    "dfz= df.drop('Class', axis=1)\n",
    "z_scores = zscore(dfz)\n",
    "\n",
    "# Count the number of outliers\n",
    "outliers_count = (np.abs(z_scores) >= 3).sum()\n",
    "\n",
    "# Print the number of outliers\n",
    "print(\"Number of outliers:\", outliers_count)\n"
   ]
  },
  {
   "cell_type": "markdown",
   "metadata": {},
   "source": [
    "##### As we are using classification models ,specifically handling outliers is not required as of now"
   ]
  },
  {
   "cell_type": "markdown",
   "metadata": {},
   "source": [
    "## Data Preprocessing:"
   ]
  },
  {
   "cell_type": "markdown",
   "metadata": {},
   "source": [
    "#### Categorical data\n",
    "    "
   ]
  },
  {
   "cell_type": "code",
   "execution_count": 7,
   "metadata": {},
   "outputs": [
    {
     "name": "stdout",
     "output_type": "stream",
     "text": [
      "Categorical Columns: ['Class']\n"
     ]
    }
   ],
   "source": [
    "# Initialize an empty list to store categorical columns\n",
    "categorical_columns = []\n",
    "\n",
    "# Iterate over columns with few unique values\n",
    "for col in df.columns:\n",
    "    # Check the data type of the column\n",
    "    if df[col].dtype == 'object':  # If the column is of object type (string)\n",
    "        categorical_columns.append(col)\n",
    "\n",
    "# Print the list of identified categorical columns\n",
    "print(\"Categorical Columns:\", categorical_columns)\n"
   ]
  },
  {
   "cell_type": "markdown",
   "metadata": {},
   "source": [
    "#### Encode categorical variable 'Class' using LabelEncoder"
   ]
  },
  {
   "cell_type": "code",
   "execution_count": 8,
   "metadata": {},
   "outputs": [],
   "source": [
    "\n",
    "label_encoder = LabelEncoder()\n",
    "df['Class'] = label_encoder.fit_transform(df['Class'])"
   ]
  },
  {
   "cell_type": "markdown",
   "metadata": {},
   "source": [
    "##### Feature Scaling:"
   ]
  },
  {
   "cell_type": "code",
   "execution_count": 9,
   "metadata": {},
   "outputs": [],
   "source": [
    "# Split dataset into features (X) and target variable (y)\n",
    "X = df.drop(columns=['Class'])\n",
    "y = df['Class']\n",
    "scaler = StandardScaler()\n",
    "X_scaled = scaler.fit_transform(X)"
   ]
  },
  {
   "cell_type": "markdown",
   "metadata": {},
   "source": [
    "## Anti-Theft Analysis"
   ]
  },
  {
   "cell_type": "markdown",
   "metadata": {},
   "source": [
    "#### Model Selection and Training"
   ]
  },
  {
   "cell_type": "code",
   "execution_count": 10,
   "metadata": {},
   "outputs": [],
   "source": [
    "# Train-Test split\n",
    "X_train, X_test, y_train, y_test = train_test_split(X, y, test_size=0.2, random_state=42)\n"
   ]
  },
  {
   "cell_type": "markdown",
   "metadata": {},
   "source": [
    "##### Models used in base paper"
   ]
  },
  {
   "cell_type": "code",
   "execution_count": 11,
   "metadata": {},
   "outputs": [],
   "source": [
    "# Base Paper's Techniques: J48, J48graft, J48consolidated, RandomTree, RepTree\n",
    "models = {\n",
    "    \"J48\": DecisionTreeClassifier(),\n",
    "    \"J48graft\": DecisionTreeClassifier(min_samples_split=25, max_depth=5),\n",
    "    \"J48consolidated\":DecisionTreeClassifier(criterion='entropy'),\n",
    "    \"RandomTree\": RandomForestClassifier(),\n",
    "    \"RepTree\": DecisionTreeClassifier()\n",
    "}\n",
    "\n",
    "# Train and evaluate each model\n",
    "accuracies = {}\n",
    "for model_name, model in models.items():\n",
    "    model.fit(X_train, y_train)\n",
    "    y_pred = model.predict(X_test)\n",
    "    accuracy = accuracy_score(y_test, y_pred)\n",
    "    accuracies[model_name] = accuracy"
   ]
  },
  {
   "cell_type": "markdown",
   "metadata": {},
   "source": [
    "##### Additional Model"
   ]
  },
  {
   "cell_type": "code",
   "execution_count": 12,
   "metadata": {},
   "outputs": [],
   "source": [
    "# Additional Technique for Model Selection: Gradient Boosting Classifier\n",
    "from sklearn.ensemble import GradientBoostingClassifier\n",
    "gb_model = GradientBoostingClassifier()\n",
    "gb_model.fit(X_train, y_train)\n",
    "gb_pred = gb_model.predict(X_test)\n",
    "gb_accuracy = accuracy_score(y_test, gb_pred)"
   ]
  },
  {
   "cell_type": "markdown",
   "metadata": {},
   "source": [
    "##### Performance Comparision "
   ]
  },
  {
   "cell_type": "code",
   "execution_count": 44,
   "metadata": {},
   "outputs": [
    {
     "name": "stdout",
     "output_type": "stream",
     "text": [
      "Base Paper's Techniques:\n",
      "\n",
      "J48 Accuracy: 0.9883449883449883\n",
      "J48graft Accuracy: 0.5771349862258953\n",
      "J48consolidated Accuracy: 0.9913117185844459\n",
      "RandomTree Accuracy: 0.9947022674295402\n",
      "RepTree Accuracy: 0.9877622377622378\n",
      " \n",
      "Additional Technique \n",
      "Gradient Boosting Classifier Accuracy: 0.9873913964823056\n"
     ]
    }
   ],
   "source": [
    "# Step 5: Performance Comparison\n",
    "\n",
    "print(\"Base Paper's Techniques:\\n\")\n",
    "for model_name, accuracy in accuracies.items():\n",
    "    print(f\"{model_name} Accuracy:\", accuracy)\n",
    "print(\" \\nAdditional Technique \\nGradient Boosting Classifier Accuracy:\", gb_accuracy)"
   ]
  },
  {
   "cell_type": "markdown",
   "metadata": {},
   "source": [
    "## Driver Safety Analysis"
   ]
  },
  {
   "cell_type": "code",
   "execution_count": 1,
   "metadata": {},
   "outputs": [],
   "source": [
    "import numpy as np\n",
    "import pandas as pd\n",
    "from sklearn.model_selection import train_test_split, cross_val_score\n",
    "from sklearn.svm import SVC\n",
    "from sklearn.neural_network import MLPClassifier\n",
    "from sklearn.metrics import accuracy_score, precision_score, recall_score, f1_score, roc_curve, auc\n",
    "from sklearn.feature_selection import SelectFromModel\n",
    "from mlxtend.feature_selection import SequentialFeatureSelector\n",
    "from statsmodels.stats.contingency_tables import mcnemar\n",
    "\n",
    "# Your code here\n"
   ]
  },
  {
   "cell_type": "code",
   "execution_count": 2,
   "metadata": {},
   "outputs": [
    {
     "data": {
      "text/plain": [
       "(94380, 54)"
      ]
     },
     "execution_count": 2,
     "metadata": {},
     "output_type": "execute_result"
    }
   ],
   "source": [
    "# Load the dataset\n",
    "data = pd.read_csv('data.csv')\n",
    "data.shape"
   ]
  },
  {
   "cell_type": "markdown",
   "metadata": {},
   "source": [
    "#### Generation of Safe/unsafe Labels\n",
    "Implementing the labeling methodology proposed by Eboli et al. (2016) before proceeding with the rest of the analysis."
   ]
  },
  {
   "cell_type": "code",
   "execution_count": 3,
   "metadata": {},
   "outputs": [],
   "source": [
    "# Extract relevant features\n",
    "vehicle_speed = data['Vehicle_speed']\n",
    "lat_acceleration = data['Acceleration_speed_-_Lateral']\n",
    "lon_acceleration = data['Acceleration_speed_-_Longitudinal']\n",
    "\n",
    "# Calculate the magnitude of the acceleration vector\n",
    "acceleration_magnitude = np.sqrt(lat_acceleration**2 + lon_acceleration**2)\n",
    "\n",
    "# Define the function to calculate the maximum friction coefficient\n",
    "def max_friction_coeff(speed):\n",
    "    return 0.198 * (speed / 100)**2 - 0.592 * (speed / 100) + 0.569\n",
    "\n",
    "# Calculate the maximum tolerated acceleration\n",
    "max_acceleration = 9.81 * max_friction_coeff(vehicle_speed)"
   ]
  },
  {
   "cell_type": "code",
   "execution_count": 4,
   "metadata": {},
   "outputs": [
    {
     "data": {
      "text/plain": [
       "(94380, 55)"
      ]
     },
     "execution_count": 4,
     "metadata": {},
     "output_type": "execute_result"
    }
   ],
   "source": [
    "# Label the data\n",
    "safe_driving_label = []\n",
    "for speed, accel in zip(vehicle_speed, acceleration_magnitude):\n",
    "    if accel <= max_acceleration[speed]:\n",
    "        safe_driving_label.append(1)  # Safe driving\n",
    "    else:\n",
    "        safe_driving_label.append(0)  # Unsafe driving\n",
    "\n",
    "data['safe_driving_label'] = safe_driving_label\n",
    "data.shape"
   ]
  },
  {
   "cell_type": "code",
   "execution_count": 5,
   "metadata": {},
   "outputs": [],
   "source": [
    "# Extract relevant features\n",
    "features = ['Vehicle_speed', 'Engine_speed', 'Calculated_LOAD_value', 'Absolute_throttle_position', 'Steering_wheel_angle','Master_cylinder_pressure']\n",
    "X = data[features]\n",
    "y = data['safe_driving_label']  \n",
    "\n",
    "# Split the dataset\n",
    "X_train, X_test, y_train, y_test = train_test_split(X, y, test_size=0.2, random_state=42)\n",
    "\n"
   ]
  },
  {
   "cell_type": "code",
   "execution_count": 6,
   "metadata": {},
   "outputs": [],
   "source": [
    "# SVM Classifier\n",
    "svm = SVC(kernel='poly', degree=3)\n",
    "svm.fit(X_train, y_train)\n",
    "y_pred_svm = svm.predict(X_test)\n",
    "\n",
    "# Feed-Forward Neural Network\n",
    "nn = MLPClassifier(hidden_layer_sizes=(50,), max_iter=500)\n",
    "nn.fit(X_train, y_train)\n",
    "y_pred_nn = nn.predict(X_test)"
   ]
  },
  {
   "cell_type": "code",
   "execution_count": 7,
   "metadata": {},
   "outputs": [
    {
     "name": "stdout",
     "output_type": "stream",
     "text": [
      "SVM Performance:\n",
      "Accuracy: 0.9995761813943632\n",
      "Precision: 0.9995761813943632\n",
      "Recall: 1.0\n",
      "F1-score: 0.999788045782111\n",
      "\n",
      "Neural Network Performance:\n",
      "Accuracy: 0.9995761813943632\n",
      "Precision: 0.9995761813943632\n",
      "Recall: 1.0\n",
      "F1-score: 0.999788045782111\n"
     ]
    }
   ],
   "source": [
    "# Evaluate performance\n",
    "print('SVM Performance:')\n",
    "print('Accuracy:', accuracy_score(y_test, y_pred_svm))\n",
    "print('Precision:', precision_score(y_test, y_pred_svm))\n",
    "print('Recall:', recall_score(y_test, y_pred_svm))\n",
    "print('F1-score:', f1_score(y_test, y_pred_svm))\n",
    "\n",
    "print('\\nNeural Network Performance:')\n",
    "print('Accuracy:', accuracy_score(y_test, y_pred_nn))\n",
    "print('Precision:', precision_score(y_test, y_pred_nn))\n",
    "print('Recall:', recall_score(y_test, y_pred_nn))\n",
    "print('F1-score:', f1_score(y_test, y_pred_nn))"
   ]
  },
  {
   "cell_type": "markdown",
   "metadata": {},
   "source": [
    "##### MCNemar test"
   ]
  },
  {
   "cell_type": "code",
   "execution_count": 8,
   "metadata": {},
   "outputs": [
    {
     "name": "stdout",
     "output_type": "stream",
     "text": [
      "\n",
      "McNemar test p-value: 0.0078125\n"
     ]
    }
   ],
   "source": [
    "from sklearn.metrics import confusion_matrix\n",
    "\n",
    "# Calculate confusion matrices\n",
    "confusion_matrix_svm = confusion_matrix(y_test, y_pred_svm)\n",
    "confusion_matrix_nn = confusion_matrix(y_test, y_pred_nn)\n",
    "\n",
    "# Create a contingency table from the confusion matrices\n",
    "contingency_table = [[confusion_matrix_svm[0, 1], confusion_matrix_svm[1, 0]],\n",
    "                     [confusion_matrix_nn[0, 1], confusion_matrix_nn[1, 0]]]\n",
    "\n",
    "# Now you can perform McNemar's test using the contingency table\n",
    "\n",
    "\n",
    "# ROC Curve\n",
    "fpr_svm, tpr_svm, _ = roc_curve(y_test, y_pred_svm)\n",
    "auc_svm = auc(fpr_svm, tpr_svm)\n",
    "\n",
    "fpr_nn, tpr_nn, _ = roc_curve(y_test, y_pred_nn)\n",
    "auc_nn = auc(fpr_nn, tpr_nn)\n",
    "\n",
    "# McNemar test\n",
    "#contingency_table = mcnemar(y_test, y_pred_svm, y_pred_nn)\n",
    "# McNemar test\n",
    "result = mcnemar(contingency_table)\n",
    "p_val = result.pvalue\n",
    "\n",
    "print(f'\\nMcNemar test p-value: {p_val}')\n"
   ]
  },
  {
   "cell_type": "markdown",
   "metadata": {},
   "source": [
    "With a p-value of 0.0078125, which is less than the conventional significance level of 0.05, we would typically reject the null hypothesis and conclude that there is a significant difference in classification performance between the two models, the McNemar test suggests that there is evidence to support that there is a difference in the predictive performance of the models being compared"
   ]
  },
  {
   "cell_type": "code",
   "execution_count": 9,
   "metadata": {},
   "outputs": [
    {
     "data": {
      "image/png": "[encoded data removed]",
      "text/plain": [
       "<Figure size 800x600 with 1 Axes>"
      ]
     },
     "metadata": {},
     "output_type": "display_data"
    }
   ],
   "source": [
    "import matplotlib.pyplot as plt\n",
    "\n",
    "\n",
    "# Calculate ROC curve for SVM\n",
    "fpr_svm, tpr_svm, _ = roc_curve(y_test, y_pred_svm)\n",
    "auc_svm = auc(fpr_svm, tpr_svm)\n",
    "\n",
    "# Calculate ROC curve for neural network\n",
    "fpr_nn, tpr_nn, _ = roc_curve(y_test, y_pred_nn)\n",
    "auc_nn = auc(fpr_nn, tpr_nn)\n",
    "\n",
    "# Plot ROC curve\n",
    "plt.figure(figsize=(8, 6))\n",
    "plt.plot(fpr_svm, tpr_svm, color='blue', lw=2, linestyle='-', label=f'SVM ROC curve (AUC = {auc_svm:.2f})')\n",
    "plt.plot(fpr_nn, tpr_nn, color='red', lw=2, linestyle='--', label=f'Neural Network ROC curve (AUC = {auc_nn:.2f})')\n",
    "plt.plot([0, 1], [0, 1], color='black', linestyle='--')\n",
    "plt.xlim([0.0, 1.0])\n",
    "plt.ylim([0.0, 1.05])\n",
    "plt.xlabel('False Positive Rate')\n",
    "plt.ylabel('True Positive Rate')\n",
    "plt.title('Receiver Operating Characteristic (ROC) Curve')\n",
    "plt.legend(loc=\"lower right\")\n",
    "plt.show()\n"
   ]
  },
  {
   "cell_type": "code",
   "execution_count": 10,
   "metadata": {},
   "outputs": [
    {
     "name": "stderr",
     "output_type": "stream",
     "text": [
      "\n",
      "[2024-03-27 10:36:31] Features: 1/3 -- score: 0.9995232042437433\n",
      "[2024-03-27 11:41:02] Features: 2/3 -- score: 0.9995364483997594"
     ]
    },
    {
     "name": "stdout",
     "output_type": "stream",
     "text": [
      "\n",
      "Selected features: Index(['Vehicle_speed', 'Absolute_throttle_position',\n",
      "       'Master_cylinder_pressure'],\n",
      "      dtype='object')\n"
     ]
    },
    {
     "name": "stderr",
     "output_type": "stream",
     "text": [
      "\n",
      "[2024-03-27 12:03:03] Features: 3/3 -- score: 0.9995232042437433"
     ]
    }
   ],
   "source": [
    "# Feature selection\n",
    "selector = SequentialFeatureSelector(svm, k_features=3, forward=True, verbose=2, scoring='accuracy', cv=5)\n",
    "sfs = selector.fit(X_train, y_train)\n",
    "selected_features = X_train.columns[list(sfs.k_feature_idx_)]\n",
    "print(f'\\nSelected features: {selected_features}')"
   ]
  },
  {
   "cell_type": "code",
   "execution_count": 14,
   "metadata": {},
   "outputs": [
    {
     "name": "stdout",
     "output_type": "stream",
     "text": [
      "\n",
      "SVM Performance (Selected Features):\n",
      "Accuracy: 0.999735113371477\n",
      "Precision: 0.9997350712658295\n",
      "Recall: 1.0\n",
      "F1-score: 0.9998675180837816\n",
      "\n",
      "Neural Network Performance (Selected Features):\n",
      "Accuracy: 0.999735113371477\n",
      "Precision: 0.9997350712658295\n",
      "Recall: 1.0\n",
      "F1-score: 0.9998675180837816\n"
     ]
    }
   ],
   "source": [
    "# Train models with selected features\n",
    "X_train_selected = X_train[selected_features]\n",
    "X_test_selected = X_test[selected_features]\n",
    "\n",
    "svm_selected = SVC(kernel='poly', degree=3)\n",
    "svm_selected.fit(X_train_selected, y_train)\n",
    "y_pred_svm_selected = svm_selected.predict(X_test_selected)\n",
    "\n",
    "nn_selected = MLPClassifier(hidden_layer_sizes=(50,), max_iter=500)\n",
    "nn_selected.fit(X_train_selected, y_train)\n",
    "y_pred_nn_selected = nn_selected.predict(X_test_selected)\n",
    "\n",
    "# Evaluate performance with selected features\n",
    "print('\\nSVM Performance (Selected Features):')\n",
    "print('Accuracy:', accuracy_score(y_test, y_pred_svm_selected))\n",
    "print('Precision:', precision_score(y_test, y_pred_svm_selected))\n",
    "print('Recall:', recall_score(y_test, y_pred_svm_selected))\n",
    "print('F1-score:', f1_score(y_test, y_pred_svm_selected))\n",
    "\n",
    "print('\\nNeural Network Performance (Selected Features):')\n",
    "print('Accuracy:', accuracy_score(y_test, y_pred_nn_selected))\n",
    "print('Precision:', precision_score(y_test, y_pred_nn_selected))\n",
    "print('Recall:', recall_score(y_test, y_pred_nn_selected))\n",
    "print('F1-score:', f1_score(y_test, y_pred_nn_selected))"
   ]
  },
  {
   "cell_type": "code",
   "execution_count": 17,
   "metadata": {},
   "outputs": [],
   "source": [
    "import numpy as np\n",
    "\n",
    "def generate_labels_and_features(data, window_size=10, overlap=0.5):\n",
    "    \"\"\"\n",
    "    Generate labels and extract features for a given time window size.\n",
    "\n",
    "    Args:\n",
    "        data (pandas.DataFrame): The input dataset.\n",
    "        window_size (int): The size of the time window in seconds.\n",
    "        overlap (float): The overlap ratio between consecutive time windows.\n",
    "\n",
    "    Returns:\n",
    "        tuple: A tuple containing the feature matrix (X) and the label vector (y).\n",
    "    \"\"\"\n",
    "    # Extract relevant features\n",
    "    features = ['Vehicle_speed', 'Engine_speed', 'Calculated_LOAD_value', 'Absolute_throttle_position', 'Steering_wheel_angle','Master_cylinder_pressure']\n",
    "    X = data[features].values\n",
    "\n",
    "    # Placeholder function to generate labels based on some criteria\n",
    "    # Here, we generate random labels for demonstration purposes\n",
    "    y = np.random.randint(0, 2, size=(len(data),))\n",
    "\n",
    "    # Initialize lists to store features and labels\n",
    "    X_windows = []\n",
    "    y_windows = []\n",
    "\n",
    "    # Iterate over the data in time windows\n",
    "    for i in range(0, len(X) - window_size + 1, int(window_size * (1 - overlap))):\n",
    "        # Extract the window\n",
    "        window = X[i:i + window_size]\n",
    "\n",
    "        # Extract features for the window\n",
    "        window_features = extract_features(window)\n",
    "        X_windows.append(window_features)\n",
    "\n",
    "        # Generate label for the window (assuming binary classification)\n",
    "        window_label = generate_label(y[i:i + window_size])\n",
    "        y_windows.append(window_label)\n",
    "\n",
    "    return np.array(X_windows), np.array(y_windows)\n",
    "\n",
    "def extract_features(window):\n",
    "    \"\"\"\n",
    "    Extract features from a time window.\n",
    "\n",
    "    Args:\n",
    "        window (numpy.ndarray): The time window data.\n",
    "\n",
    "    Returns:\n",
    "        numpy.ndarray: The extracted features.\n",
    "    \"\"\"\n",
    "    # Implement your feature extraction logic here\n",
    "    # For example, you can calculate statistical features like mean, std, max, etc.\n",
    "    # or use the features suggested in the paper (Base, Hjorth, Shape)\n",
    "    return np.mean(window, axis=0)  # Replace with your feature extraction code\n",
    "\n",
    "def generate_label(window_labels):\n",
    "    \"\"\"\n",
    "    Generate the label for a time window.\n",
    "\n",
    "    Args:\n",
    "        window_labels (numpy.ndarray): The labels corresponding to the time window.\n",
    "\n",
    "    Returns:\n",
    "        int: The label for the window.\n",
    "    \"\"\"\n",
    "    # Placeholder function to generate label based on some criteria\n",
    "    # Here, we take the majority label as the window label\n",
    "    label_counts = np.bincount(window_labels)\n",
    "    window_label = np.argmax(label_counts)\n",
    "    return window_label\n"
   ]
  },
  {
   "cell_type": "code",
   "execution_count": 18,
   "metadata": {},
   "outputs": [
    {
     "name": "stdout",
     "output_type": "stream",
     "text": [
      "\n",
      "Sensitivity analysis (time window size):\n",
      "Window size: 5 seconds\n",
      "SVM accuracy: 0.5010383488472634\n",
      "Neural Network accuracy: 0.5009323088662633\n",
      "Window size: 10 seconds\n",
      "SVM accuracy: 0.6181721854304636\n",
      "Neural Network accuracy: 0.6092185430463577\n",
      "Window size: 15 seconds\n",
      "SVM accuracy: 0.5030042172366482\n",
      "Neural Network accuracy: 0.5003335115729203\n",
      "Window size: 20 seconds\n",
      "SVM accuracy: 0.5733813761418448\n",
      "Neural Network accuracy: 0.5304644624684505\n"
     ]
    },
    {
     "data": {
      "image/png": "[encoded data removed]",
      "text/plain": [
       "<Figure size 1000x600 with 1 Axes>"
      ]
     },
     "metadata": {},
     "output_type": "display_data"
    }
   ],
   "source": [
    "# Define the window sizes for sensitivity analysis\n",
    "window_sizes = [5, 10, 15, 20]\n",
    "\n",
    "# Initialize lists to store accuracy scores for SVM and neural network\n",
    "svm_scores = []\n",
    "nn_scores = []\n",
    "\n",
    "# Iterate over different window sizes\n",
    "for window_size in window_sizes:\n",
    "    # Generate labels and features for the given window size\n",
    "    X_windows, y_windows = generate_labels_and_features(data, window_size=window_size)\n",
    "    \n",
    "    # Initialize SVM and neural network classifiers\n",
    "    svm = SVC(kernel='poly', degree=3)\n",
    "    nn = MLPClassifier(hidden_layer_sizes=(50,), max_iter=500)\n",
    "    \n",
    "    # Calculate cross-validated accuracy scores for SVM\n",
    "    svm_score = cross_val_score(svm, X_windows, y_windows, cv=5).mean()\n",
    "    svm_scores.append(svm_score)\n",
    "    \n",
    "    # Calculate cross-validated accuracy scores for neural network\n",
    "    nn_score = cross_val_score(nn, X_windows, y_windows, cv=5).mean()\n",
    "    nn_scores.append(nn_score)\n",
    "\n",
    "print('\\nSensitivity analysis (time window size):')\n",
    "for i, size in enumerate(window_sizes):\n",
    "    print(f'Window size: {size} seconds')\n",
    "    print(f'SVM accuracy: {svm_scores[i]}')\n",
    "    print(f'Neural Network accuracy: {nn_scores[i]}')\n",
    "    \n",
    "# Visualize the results\n",
    "plt.figure(figsize=(10, 6))\n",
    "plt.plot(window_sizes, svm_scores, marker='o', label='SVM')\n",
    "plt.plot(window_sizes, nn_scores, marker='s', label='Neural Network')\n",
    "plt.title('Sensitivity Analysis')\n",
    "plt.xlabel('Window Size (seconds)')\n",
    "plt.ylabel('Accuracy')\n",
    "plt.xticks(window_sizes)\n",
    "plt.legend()\n",
    "plt.grid(True)\n",
    "plt.show()\n"
   ]
  }
 ],
 "metadata": {
  "kernelspec": {
   "display_name": "Python 3",
   "language": "python",
   "name": "python3"
  },
  "language_info": {
   "codemirror_mode": {
    "name": "ipython",
    "version": 3
   },
   "file_extension": ".py",
   "mimetype": "text/x-python",
   "name": "python",
   "nbconvert_exporter": "python",
   "pygments_lexer": "ipython3",
   "version": "3.11.5"
  }
 },
 "nbformat": 4,
 "nbformat_minor": 2
}
